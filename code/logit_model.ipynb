{
 "cells": [
  {
   "cell_type": "code",
   "execution_count": 1,
   "metadata": {},
   "outputs": [],
   "source": [
    "import pandas as pd\n",
    "import numpy as np"
   ]
  },
  {
   "cell_type": "code",
   "execution_count": 4,
   "metadata": {},
   "outputs": [],
   "source": [
    "#read in cleaned, merged and encoded data csv for permit model\n",
    "df = pd.read_csv(\"../data/final_permit_encode.csv\", low_memory=False)"
   ]
  },
  {
   "cell_type": "code",
   "execution_count": 5,
   "metadata": {},
   "outputs": [
    {
     "name": "stdout",
     "output_type": "stream",
     "text": [
      "(1984, 46)\n",
      "Index(['pdox_b1_id', 'elapsed_workdays', 'alias', 'Project_Status',\n",
      "       'job_class', 'Ward', 'green_floor_area', 'use_type', 'permit_type',\n",
      "       'PRICE', 'QUALIFIED', 'LIVING_GBA', 'USECODE', 'LANDAREA', 'EYFC',\n",
      "       'use_change', 'num_units_change', 'gfa_change', 'ReviewCycle',\n",
      "       'CFA_Review', 'Chinatown_Review', 'DC_Water_Review', 'DDOE_Review',\n",
      "       'DDOT_Review', 'DOEE_Review', 'DOH_Review', 'EISF_Review',\n",
      "       'Electrical_Review', 'Elevator_Review', 'Energy_Review', 'File_Room',\n",
      "       'Fire_Review', 'Green_Review', 'HPRB_Review', 'Mechanical_Review',\n",
      "       'NCPC_Review', 'PRC', 'Plumbing_Review', 'QA_Review',\n",
      "       'Structural_Review', 'WASA_Review', 'WMATA_Review',\n",
      "       'White_House_Review', 'Zoning_Review', 'over_90', 'over_150'],\n",
      "      dtype='object')\n"
     ]
    },
    {
     "data": {
      "text/html": [
       "<div>\n",
       "<style scoped>\n",
       "    .dataframe tbody tr th:only-of-type {\n",
       "        vertical-align: middle;\n",
       "    }\n",
       "\n",
       "    .dataframe tbody tr th {\n",
       "        vertical-align: top;\n",
       "    }\n",
       "\n",
       "    .dataframe thead th {\n",
       "        text-align: right;\n",
       "    }\n",
       "</style>\n",
       "<table border=\"1\" class=\"dataframe\">\n",
       "  <thead>\n",
       "    <tr style=\"text-align: right;\">\n",
       "      <th></th>\n",
       "      <th>pdox_b1_id</th>\n",
       "      <th>elapsed_workdays</th>\n",
       "      <th>alias</th>\n",
       "      <th>Project_Status</th>\n",
       "      <th>job_class</th>\n",
       "      <th>Ward</th>\n",
       "      <th>green_floor_area</th>\n",
       "      <th>use_type</th>\n",
       "      <th>permit_type</th>\n",
       "      <th>PRICE</th>\n",
       "      <th>...</th>\n",
       "      <th>PRC</th>\n",
       "      <th>Plumbing_Review</th>\n",
       "      <th>QA_Review</th>\n",
       "      <th>Structural_Review</th>\n",
       "      <th>WASA_Review</th>\n",
       "      <th>WMATA_Review</th>\n",
       "      <th>White_House_Review</th>\n",
       "      <th>Zoning_Review</th>\n",
       "      <th>over_90</th>\n",
       "      <th>over_150</th>\n",
       "    </tr>\n",
       "  </thead>\n",
       "  <tbody>\n",
       "    <tr>\n",
       "      <th>0</th>\n",
       "      <td>AN1700124</td>\n",
       "      <td>62.0</td>\n",
       "      <td>0</td>\n",
       "      <td>0</td>\n",
       "      <td>2</td>\n",
       "      <td>6.0</td>\n",
       "      <td>0.000000</td>\n",
       "      <td>1</td>\n",
       "      <td>0</td>\n",
       "      <td>6.209515</td>\n",
       "      <td>...</td>\n",
       "      <td>0.0</td>\n",
       "      <td>0.0</td>\n",
       "      <td>0.0</td>\n",
       "      <td>22.0</td>\n",
       "      <td>0.0</td>\n",
       "      <td>0.0</td>\n",
       "      <td>0.0</td>\n",
       "      <td>23.0</td>\n",
       "      <td>0</td>\n",
       "      <td>0</td>\n",
       "    </tr>\n",
       "    <tr>\n",
       "      <th>1</th>\n",
       "      <td>AN1700215</td>\n",
       "      <td>100.0</td>\n",
       "      <td>1</td>\n",
       "      <td>6</td>\n",
       "      <td>6</td>\n",
       "      <td>5.0</td>\n",
       "      <td>3.260071</td>\n",
       "      <td>1</td>\n",
       "      <td>0</td>\n",
       "      <td>5.525045</td>\n",
       "      <td>...</td>\n",
       "      <td>9.0</td>\n",
       "      <td>0.0</td>\n",
       "      <td>7.0</td>\n",
       "      <td>26.0</td>\n",
       "      <td>0.0</td>\n",
       "      <td>0.0</td>\n",
       "      <td>0.0</td>\n",
       "      <td>14.0</td>\n",
       "      <td>1</td>\n",
       "      <td>0</td>\n",
       "    </tr>\n",
       "    <tr>\n",
       "      <th>2</th>\n",
       "      <td>AN1700235</td>\n",
       "      <td>65.0</td>\n",
       "      <td>0</td>\n",
       "      <td>0</td>\n",
       "      <td>3</td>\n",
       "      <td>5.0</td>\n",
       "      <td>3.147367</td>\n",
       "      <td>0</td>\n",
       "      <td>0</td>\n",
       "      <td>5.755875</td>\n",
       "      <td>...</td>\n",
       "      <td>5.0</td>\n",
       "      <td>0.0</td>\n",
       "      <td>8.0</td>\n",
       "      <td>18.0</td>\n",
       "      <td>0.0</td>\n",
       "      <td>0.0</td>\n",
       "      <td>0.0</td>\n",
       "      <td>3.0</td>\n",
       "      <td>0</td>\n",
       "      <td>0</td>\n",
       "    </tr>\n",
       "    <tr>\n",
       "      <th>3</th>\n",
       "      <td>AN1700242</td>\n",
       "      <td>91.0</td>\n",
       "      <td>0</td>\n",
       "      <td>0</td>\n",
       "      <td>7</td>\n",
       "      <td>1.0</td>\n",
       "      <td>4.238508</td>\n",
       "      <td>0</td>\n",
       "      <td>0</td>\n",
       "      <td>5.705008</td>\n",
       "      <td>...</td>\n",
       "      <td>5.0</td>\n",
       "      <td>0.0</td>\n",
       "      <td>11.0</td>\n",
       "      <td>32.0</td>\n",
       "      <td>0.0</td>\n",
       "      <td>0.0</td>\n",
       "      <td>0.0</td>\n",
       "      <td>26.0</td>\n",
       "      <td>1</td>\n",
       "      <td>0</td>\n",
       "    </tr>\n",
       "    <tr>\n",
       "      <th>4</th>\n",
       "      <td>AN1700244</td>\n",
       "      <td>57.0</td>\n",
       "      <td>1</td>\n",
       "      <td>0</td>\n",
       "      <td>6</td>\n",
       "      <td>2.0</td>\n",
       "      <td>2.389928</td>\n",
       "      <td>1</td>\n",
       "      <td>0</td>\n",
       "      <td>6.172507</td>\n",
       "      <td>...</td>\n",
       "      <td>1.0</td>\n",
       "      <td>0.0</td>\n",
       "      <td>6.0</td>\n",
       "      <td>18.0</td>\n",
       "      <td>0.0</td>\n",
       "      <td>0.0</td>\n",
       "      <td>0.0</td>\n",
       "      <td>21.0</td>\n",
       "      <td>0</td>\n",
       "      <td>0</td>\n",
       "    </tr>\n",
       "  </tbody>\n",
       "</table>\n",
       "<p>5 rows × 46 columns</p>\n",
       "</div>"
      ],
      "text/plain": [
       "  pdox_b1_id  elapsed_workdays  alias  Project_Status  job_class  Ward  \\\n",
       "0  AN1700124              62.0      0               0          2   6.0   \n",
       "1  AN1700215             100.0      1               6          6   5.0   \n",
       "2  AN1700235              65.0      0               0          3   5.0   \n",
       "3  AN1700242              91.0      0               0          7   1.0   \n",
       "4  AN1700244              57.0      1               0          6   2.0   \n",
       "\n",
       "   green_floor_area  use_type  permit_type     PRICE    ...     PRC  \\\n",
       "0          0.000000         1            0  6.209515    ...     0.0   \n",
       "1          3.260071         1            0  5.525045    ...     9.0   \n",
       "2          3.147367         0            0  5.755875    ...     5.0   \n",
       "3          4.238508         0            0  5.705008    ...     5.0   \n",
       "4          2.389928         1            0  6.172507    ...     1.0   \n",
       "\n",
       "   Plumbing_Review  QA_Review  Structural_Review  WASA_Review  WMATA_Review  \\\n",
       "0              0.0        0.0               22.0          0.0           0.0   \n",
       "1              0.0        7.0               26.0          0.0           0.0   \n",
       "2              0.0        8.0               18.0          0.0           0.0   \n",
       "3              0.0       11.0               32.0          0.0           0.0   \n",
       "4              0.0        6.0               18.0          0.0           0.0   \n",
       "\n",
       "   White_House_Review  Zoning_Review  over_90  over_150  \n",
       "0                 0.0           23.0        0         0  \n",
       "1                 0.0           14.0        1         0  \n",
       "2                 0.0            3.0        0         0  \n",
       "3                 0.0           26.0        1         0  \n",
       "4                 0.0           21.0        0         0  \n",
       "\n",
       "[5 rows x 46 columns]"
      ]
     },
     "execution_count": 5,
     "metadata": {},
     "output_type": "execute_result"
    }
   ],
   "source": [
    "print(df.shape)\n",
    "print(df.columns)\n",
    "df.head()"
   ]
  },
  {
   "cell_type": "code",
   "execution_count": 6,
   "metadata": {},
   "outputs": [],
   "source": [
    "import matplotlib.pyplot as plt   #Data visualisation libraries \n",
    "import seaborn as sns\n",
    "%matplotlib inline\n",
    "\n",
    "from sklearn.preprocessing import scale\n",
    "from sklearn.model_selection import train_test_split\n",
    "from sklearn.metrics import accuracy_score\n",
    "from sklearn.model_selection import cross_val_score\n",
    "from sklearn.metrics import roc_curve, auc"
   ]
  },
  {
   "cell_type": "code",
   "execution_count": 7,
   "metadata": {},
   "outputs": [],
   "source": [
    "#create feature matrix and target array\n",
    "y = df['over_150']\n",
    "X = df.drop(['pdox_b1_id', 'elapsed_workdays', 'over_150', 'over_90'], axis=1)"
   ]
  },
  {
   "cell_type": "code",
   "execution_count": 8,
   "metadata": {},
   "outputs": [],
   "source": [
    "#split the dataset into test and trains sets\n",
    "X_train, X_test, y_train, y_test = train_test_split(X, y, test_size=0.3, random_state=101)"
   ]
  },
  {
   "cell_type": "code",
   "execution_count": 9,
   "metadata": {},
   "outputs": [],
   "source": [
    "#LOGIT MODEL\n",
    "from sklearn.linear_model import LogisticRegression"
   ]
  },
  {
   "cell_type": "code",
   "execution_count": 10,
   "metadata": {},
   "outputs": [
    {
     "name": "stderr",
     "output_type": "stream",
     "text": [
      "D:\\Anaconda\\lib\\site-packages\\sklearn\\linear_model\\logistic.py:758: ConvergenceWarning: lbfgs failed to converge. Increase the number of iterations.\n",
      "  \"of iterations.\", ConvergenceWarning)\n"
     ]
    }
   ],
   "source": [
    "logisticRegr = LogisticRegression(solver='lbfgs')\n",
    "l = logisticRegr.fit(X_train, np.ravel(y_train))\n",
    "predictions = l.predict(X_test)"
   ]
  },
  {
   "cell_type": "code",
   "execution_count": 11,
   "metadata": {},
   "outputs": [
    {
     "name": "stdout",
     "output_type": "stream",
     "text": [
      "accuracy for logistic regression model: 0.976510\n",
      "Training score:  0.9765100671140939\n"
     ]
    }
   ],
   "source": [
    "print('accuracy for logistic regression model: %f' %accuracy_score(np.ravel(y_test),predictions))\n",
    "print('Training score: ', l.score(X_test, y_test))"
   ]
  },
  {
   "cell_type": "code",
   "execution_count": 12,
   "metadata": {},
   "outputs": [
    {
     "data": {
      "text/plain": [
       "array([-0.76,  0.29, -0.48, -0.78, -0.69, -0.85,  0.  , -2.13,  0.38,\n",
       "        0.23, -0.02, -0.7 , -0.07, -0.27, -0.52, -0.44, -0.14,  0.25,\n",
       "       -0.  ,  0.21,  0.04,  0.17,  0.19,  0.04,  0.03,  0.2 ,  0.36,\n",
       "        0.17,  0.  ,  0.15,  0.21,  0.16,  0.21,  0.  ,  0.08,  0.16,\n",
       "        0.21,  0.19,  0.02,  0.23,  0.18,  0.18])"
      ]
     },
     "execution_count": 12,
     "metadata": {},
     "output_type": "execute_result"
    }
   ],
   "source": [
    "#print coefficients\n",
    "np.set_printoptions(precision=2, suppress=True)\n",
    "np.ravel(l.coef_)"
   ]
  },
  {
   "cell_type": "code",
   "execution_count": 13,
   "metadata": {},
   "outputs": [
    {
     "ename": "ModuleNotFoundError",
     "evalue": "No module named 'tabulate'",
     "output_type": "error",
     "traceback": [
      "\u001b[1;31m---------------------------------------------------------------------------\u001b[0m",
      "\u001b[1;31mModuleNotFoundError\u001b[0m                       Traceback (most recent call last)",
      "\u001b[1;32m<ipython-input-13-7d9d98d939fb>\u001b[0m in \u001b[0;36m<module>\u001b[1;34m\u001b[0m\n\u001b[1;32m----> 1\u001b[1;33m \u001b[1;32mfrom\u001b[0m \u001b[0mtabulate\u001b[0m \u001b[1;32mimport\u001b[0m \u001b[0mtabulate\u001b[0m\u001b[1;33m\u001b[0m\u001b[1;33m\u001b[0m\u001b[0m\n\u001b[0m\u001b[0;32m      2\u001b[0m \u001b[1;33m\u001b[0m\u001b[0m\n\u001b[0;32m      3\u001b[0m \u001b[1;31m#make a table for the coefficient estimates\u001b[0m\u001b[1;33m\u001b[0m\u001b[1;33m\u001b[0m\u001b[1;33m\u001b[0m\u001b[0m\n\u001b[0;32m      4\u001b[0m \u001b[0mcoef\u001b[0m \u001b[1;33m=\u001b[0m \u001b[0ml\u001b[0m\u001b[1;33m.\u001b[0m\u001b[0mcoef_\u001b[0m\u001b[1;33m\u001b[0m\u001b[1;33m\u001b[0m\u001b[0m\n\u001b[0;32m      5\u001b[0m \u001b[0mcoef\u001b[0m \u001b[1;33m=\u001b[0m \u001b[0mcoef\u001b[0m\u001b[1;33m[\u001b[0m\u001b[1;36m0\u001b[0m\u001b[1;33m]\u001b[0m\u001b[1;33m.\u001b[0m\u001b[0mtolist\u001b[0m\u001b[1;33m(\u001b[0m\u001b[1;33m)\u001b[0m\u001b[1;33m\u001b[0m\u001b[1;33m\u001b[0m\u001b[0m\n",
      "\u001b[1;31mModuleNotFoundError\u001b[0m: No module named 'tabulate'"
     ]
    }
   ],
   "source": [
    "from tabulate import tabulate\n",
    "\n",
    "#make a table for the coefficient estimates\n",
    "coef = l.coef_\n",
    "coef = coef[0].tolist()\n",
    "headers = list(X.columns)\n",
    "\n",
    "tt = list(zip(headers, coef))\n",
    "print(tabulate(tt, headers =['variable', 'coefficient'], tablefmt=\"fancy_grid\"))"
   ]
  },
  {
   "cell_type": "code",
   "execution_count": 14,
   "metadata": {},
   "outputs": [
    {
     "name": "stdout",
     "output_type": "stream",
     "text": [
      "AUC:  0.9722631682389936\n"
     ]
    }
   ],
   "source": [
    "#MAKE ROC FOR LOGIT \n",
    "# true positives and false positives for logit\n",
    "false_positive_rate, true_positive_rate, thresholds = roc_curve(y_test, predictions, pos_label=1)\n",
    "rates_logit = pd.DataFrame(dict(fpr=false_positive_rate, tpr=true_positive_rate))\n",
    "roc_auc_logit = auc(rates_logit['fpr'], rates_logit['tpr'])\n",
    "print('AUC: ', roc_auc_logit)"
   ]
  },
  {
   "cell_type": "code",
   "execution_count": 15,
   "metadata": {},
   "outputs": [
    {
     "data": {
      "image/png": "[encoded data removed]",
      "text/plain": [
       "<Figure size 432x288 with 1 Axes>"
      ]
     },
     "metadata": {
      "needs_background": "light"
     },
     "output_type": "display_data"
    }
   ],
   "source": [
    "plt.plot(rates_logit.fpr, rates_logit.tpr, 'b', label = 'logit = %0.2f' % roc_auc_logit)\n",
    "plt.plot([0, 1], [0, 1],'k--')\n",
    "plt.xlim([0, 1])\n",
    "plt.ylim([0, 1])\n",
    "plt.ylabel('True Positive Rate')\n",
    "plt.xlabel('False Positive Rate')\n",
    "plt.title('Receiver Operating Characteristic for Logit')\n",
    "plt.legend(loc = 'lower right')\n",
    "plt.show()"
   ]
  },
  {
   "cell_type": "code",
   "execution_count": null,
   "metadata": {},
   "outputs": [],
   "source": []
  }
 ],
 "metadata": {
  "kernelspec": {
   "display_name": "Python 3",
   "language": "python",
   "name": "python3"
  },
  "language_info": {
   "codemirror_mode": {
    "name": "ipython",
    "version": 3
   },
   "file_extension": ".py",
   "mimetype": "text/x-python",
   "name": "python",
   "nbconvert_exporter": "python",
   "pygments_lexer": "ipython3",
   "version": "3.7.2"
  },
  "toc": {
   "base_numbering": 1,
   "nav_menu": {},
   "number_sections": true,
   "sideBar": true,
   "skip_h1_title": false,
   "title_cell": "Table of Contents",
   "title_sidebar": "Contents",
   "toc_cell": false,
   "toc_position": {},
   "toc_section_display": true,
   "toc_window_display": false
  },
  "varInspector": {
   "cols": {
    "lenName": 16,
    "lenType": 16,
    "lenVar": 40
   },
   "kernels_config": {
    "python": {
     "delete_cmd_postfix": "",
     "delete_cmd_prefix": "del ",
     "library": "var_list.py",
     "varRefreshCmd": "print(var_dic_list())"
    },
    "r": {
     "delete_cmd_postfix": ") ",
     "delete_cmd_prefix": "rm(",
     "library": "var_list.r",
     "varRefreshCmd": "cat(var_dic_list()) "
    }
   },
   "types_to_exclude": [
    "module",
    "function",
    "builtin_function_or_method",
    "instance",
    "_Feature"
   ],
   "window_display": false
  }
 },
 "nbformat": 4,
 "nbformat_minor": 2
}
