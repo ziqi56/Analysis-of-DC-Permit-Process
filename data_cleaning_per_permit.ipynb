{
 "cells": [
  {
   "cell_type": "code",
   "execution_count": null,
   "metadata": {},
   "outputs": [],
   "source": [
    "import pandas as pd\n",
    "import numpy as np\n",
    "from sklearn.preprocessing import LabelEncoder"
   ]
  },
  {
   "cell_type": "code",
   "execution_count": null,
   "metadata": {},
   "outputs": [],
   "source": [
    "# Import dataset from merged dataset\n",
    "data = pd.read_csv(\"../data/data_merged.csv\", encoding='iso-8859-1', low_memory=False)"
   ]
  },
  {
   "cell_type": "code",
   "execution_count": null,
   "metadata": {
    "scrolled": true
   },
   "outputs": [],
   "source": [
    "data.columns"
   ]
  },
  {
   "cell_type": "code",
   "execution_count": null,
   "metadata": {},
   "outputs": [],
   "source": [
    "data.shape"
   ]
  },
  {
   "cell_type": "markdown",
   "metadata": {},
   "source": [
    "## Filter the data: \n",
    "### It will be easier to interpert *elapsed_workdays* if *TaskStatus* = Complete and exclude customer operations"
   ]
  },
  {
   "cell_type": "code",
   "execution_count": null,
   "metadata": {},
   "outputs": [],
   "source": [
    "df = data[data['TaskStatus'] == 'Complete']\n",
    "df = df[(df['AGENCY'] == 'SISTER')|(df['AGENCY'] == 'DCRA')]"
   ]
  },
  {
   "cell_type": "code",
   "execution_count": null,
   "metadata": {},
   "outputs": [],
   "source": [
    "df.shape"
   ]
  },
  {
   "cell_type": "code",
   "execution_count": null,
   "metadata": {},
   "outputs": [],
   "source": [
    "# Drop unrelavent variables\n",
    "X = df.drop(['Unnamed: 0', 'As_Of_Date', 'permit_cap_status','Project_Description','Project_CreateDate',\n",
    "             'TaskStatus', 'FlowTask_CreatedDate','FlowTask_DateUpdated', 'FlowTask_DateAccepted',\n",
    "             'RC_ReviewStatus', 'RC_ReviewComments_confidential', 'Fee_Assessed','over_30','pdox',\n",
    "             'est_worktime', 'QA_Date', 'QA_Date_rc1', 'DESC_OF_WORK', 'issued', 'Begin_review_dd',\n",
    "             'Resubmit_rec_dd', 'rc_1_time', 'rc_time', 'FlowInstanceID', 'create_review', 'ssl',\n",
    "             'RC_assignedBy_anon', 'UpdatedByEmail_anon', 'applicant_anon','owner_name_anon', 'NAME_anon',\n",
    "             'OBJECTID', 'BLDG_NUM', 'SALEDATE', 'AYB', 'SALE_NUM', 'GIS_LAST_MOD_DTTM'], axis=1)"
   ]
  },
  {
   "cell_type": "code",
   "execution_count": null,
   "metadata": {},
   "outputs": [],
   "source": [
    "X.columns"
   ]
  },
  {
   "cell_type": "markdown",
   "metadata": {},
   "source": [
    "## Data Cleaning"
   ]
  },
  {
   "cell_type": "code",
   "execution_count": null,
   "metadata": {},
   "outputs": [],
   "source": [
    "# Clean GroupName variable\n",
    "# Suppress chaining warning\n",
    "pd.options.mode.chained_assignment = None  # default='warn'"
   ]
  },
  {
   "cell_type": "code",
   "execution_count": null,
   "metadata": {},
   "outputs": [],
   "source": [
    "X.GroupName[X.GroupName == 'DC Water Review Supervisor'] = \"DC Water Review\"\n",
    "X.GroupName[X.GroupName == 'DDOT Review Supervisor'] = \"DDOT Review\"\n",
    "X.GroupName[X.GroupName == 'DOH Review Supervisor'] = \"DOH Review\"\n",
    "X.GroupName[X.GroupName == 'Electrical Review Supervisor'] = \"Electrical Review\"\n",
    "X.GroupName[X.GroupName == 'Elevator Review Supervisor'] = \"Elevator Review\"\n",
    "X.GroupName[X.GroupName == 'Energy Review Supervisor'] = \"Energy Review\"\n",
    "X.GroupName[X.GroupName == 'Fire Review Supervisor'] = \"Fire Review\"\n",
    "X.GroupName[X.GroupName == 'Green Review Supervisor'] = \"Green Review\"\n",
    "X.GroupName[X.GroupName == 'Mechanical Review Supervisor'] = \"Mechanical Review\"\n",
    "X.GroupName[X.GroupName == 'Plumbing Review Supervisor'] = \"Plumbing Review\"\n",
    "X.GroupName[X.GroupName == 'Structural Review Supervisor'] = \"Structural Review\"\n",
    "X.GroupName[X.GroupName == 'WASA Review Supervisor'] = \"WASA Review\"\n",
    "X.GroupName[X.GroupName == 'Zoning Review Supervisor'] = \"Zoning Review\""
   ]
  },
  {
   "cell_type": "code",
   "execution_count": null,
   "metadata": {},
   "outputs": [],
   "source": [
    "X.GroupName[X.GroupName == 'DDOE Review Supervisor'] = \"DDOE Review\"\n",
    "X.GroupName[X.GroupName == 'DDOE SE-SW Review'] = \"DDOE Review\"\n",
    "X.GroupName[X.GroupName == 'DDOE WSP Review'] = \"DDOE Review\"\n",
    "X.GroupName[X.GroupName == 'DOEE FP Review'] = \"DOEE Review\"\n",
    "X.GroupName[X.GroupName == 'DOEE GAR Review'] = \"DOEE Review\"\n",
    "X.GroupName[X.GroupName == 'DOEE Review Supervisor'] = \"DOEE Review\"\n",
    "X.GroupName[X.GroupName == 'DOEE SE-SW Review'] = \"DOEE Review\""
   ]
  },
  {
   "cell_type": "code",
   "execution_count": null,
   "metadata": {},
   "outputs": [],
   "source": [
    "# Aggregate 'building_construction_type' variable \n",
    "X.building_construction_type[X.building_construction_type == 'Type I - Fire-Resistive Non-combustible'] = \"Type I - Fire-Resistive Non-Combustible\"\n",
    "X.building_construction_type[X.building_construction_type == 'Type I-A - Fire-Resistive Non-Combustible'] = \"Type I - Fire-Resistive Non-Combustible\"\n",
    "X.building_construction_type[X.building_construction_type == 'Type I-B - Fire-Resistive Non-Combustible'] = \"Type I - Fire-Resistive Non-Combustible\"\n",
    "X.building_construction_type[X.building_construction_type == 'TYPE II-A - Non-Combustible Construction'] = \"TYPE II - Non-Combustible Construction\"\n",
    "X.building_construction_type[X.building_construction_type == 'TYPE II-B - Non-Combustible Construction'] = \"TYPE II - Non-Combustible Construction\"\n",
    "X.building_construction_type[X.building_construction_type == 'TYPE III-A - Non-Combustible Exterior Walls'] = \"TYPE III - Non-Combustible Exterior Walls\"\n",
    "X.building_construction_type[X.building_construction_type == 'TYPE III-B - Non-Combustible Exterior Walls'] = \"TYPE III - Non-Combustible Exterior Walls\"\n",
    "X.building_construction_type[X.building_construction_type == 'TYPE V-A - Any Materials Permitted'] = \"TYPE V - Any Materials Permitted\"\n",
    "X.building_construction_type[X.building_construction_type == 'TYPE V-B - Any Materials Permitted'] = \"TYPE V - Any Materials Permitted\""
   ]
  },
  {
   "cell_type": "markdown",
   "metadata": {},
   "source": [
    "Change *price* and *EYB* == 0 to N.A"
   ]
  },
  {
   "cell_type": "code",
   "execution_count": null,
   "metadata": {},
   "outputs": [],
   "source": [
    "X['PRICE'] = X['PRICE'].apply(lambda x: None if x == 0 else x)"
   ]
  },
  {
   "cell_type": "code",
   "execution_count": null,
   "metadata": {},
   "outputs": [],
   "source": [
    "X['EYB'] = X['EYB'].apply(lambda x: None if x == 0 else x)"
   ]
  },
  {
   "cell_type": "markdown",
   "metadata": {},
   "source": [
    "Change EYB to elapsed years from construction"
   ]
  },
  {
   "cell_type": "code",
   "execution_count": null,
   "metadata": {},
   "outputs": [],
   "source": [
    "X['EYFC'] = 2018 - X['EYB']\n",
    "X = X.drop(['EYB'], axis = 1)"
   ]
  },
  {
   "cell_type": "markdown",
   "metadata": {},
   "source": [
    "Evaluate the variables 'proposed_number_units' and 'existing_number_units' \n",
    "Convert to a dummy to indicate whether the num of units changing in the permit application or not: 1= change/ 0=no change"
   ]
  },
  {
   "cell_type": "code",
   "execution_count": null,
   "metadata": {},
   "outputs": [],
   "source": [
    "num_units = X['proposed_number_units'] != X['existing_number_units']\n",
    "num_units = pd.DataFrame(num_units, columns=[\"num_units_change\"])\n",
    "num_units.groupby(by=\"num_units_change\").size()"
   ]
  },
  {
   "cell_type": "markdown",
   "metadata": {},
   "source": [
    "Evaluate the variables 'existing_use_of_building' and 'proposed_use_of_building' \n",
    "Convert to a dummy to indicate whether the existing use changing in the permit application or not: 1= change/ 0=no change"
   ]
  },
  {
   "cell_type": "code",
   "execution_count": null,
   "metadata": {},
   "outputs": [],
   "source": [
    "use = X['existing_use_of_building'] != X['proposed_use_of_building']\n",
    "use = pd.DataFrame(use, columns=[\"use_change\"])\n",
    "use.groupby(by=\"use_change\").size()"
   ]
  },
  {
   "cell_type": "markdown",
   "metadata": {},
   "source": [
    "Evaluate the variables'present_gfa', 'proposed_gross_floor_area' \n",
    "Convert to a dummy to indicate whether the gfa changing in the permit application or not: 1= change/ 0=no change"
   ]
  },
  {
   "cell_type": "code",
   "execution_count": null,
   "metadata": {},
   "outputs": [],
   "source": [
    "gfa = X['proposed_gross_floor_area'] != X['present_gfa']\n",
    "gfa = pd.DataFrame(gfa, columns=[\"gfa_change\"])\n",
    "gfa.groupby(by=\"gfa_change\").size()"
   ]
  },
  {
   "cell_type": "code",
   "execution_count": null,
   "metadata": {},
   "outputs": [],
   "source": [
    "temp = pd.concat([use, num_units, gfa], axis=1)"
   ]
  },
  {
   "cell_type": "markdown",
   "metadata": {},
   "source": [
    "Create dummy variables for all \"GroupName\""
   ]
  },
  {
   "cell_type": "code",
   "execution_count": null,
   "metadata": {},
   "outputs": [],
   "source": [
    "agencies = pd.get_dummies(X.GroupName)\n",
    "agencies.columns"
   ]
  },
  {
   "cell_type": "code",
   "execution_count": null,
   "metadata": {},
   "outputs": [],
   "source": [
    "temp = pd.concat([temp, agencies], axis=1)\n",
    "X = pd.concat([X, temp], axis=1)"
   ]
  },
  {
   "cell_type": "code",
   "execution_count": null,
   "metadata": {},
   "outputs": [],
   "source": [
    "# Drop variables\n",
    "X = X.drop(['existing_use_of_building', 'proposed_use_of_building','proposed_number_stories',\n",
    "            'proposed_number_units','existing_number_units', \n",
    "            'proposed_gross_floor_area','present_gfa' ,'GroupName'], axis=1)"
   ]
  },
  {
   "cell_type": "markdown",
   "metadata": {},
   "source": [
    "#### Log variables have big numbers: *green_floor_area*, *PRICE*, *LIVING_GBA*, *LANDAREA*"
   ]
  },
  {
   "cell_type": "code",
   "execution_count": null,
   "metadata": {},
   "outputs": [],
   "source": [
    "X.groupby(by=\"green_floor_area\").size()"
   ]
  },
  {
   "cell_type": "code",
   "execution_count": null,
   "metadata": {},
   "outputs": [],
   "source": [
    "import math\n",
    "X['green_floor_area'] = X['green_floor_area'].apply(lambda x: math.log(x,10) if x > 0 else x)"
   ]
  },
  {
   "cell_type": "code",
   "execution_count": null,
   "metadata": {},
   "outputs": [],
   "source": [
    "X.groupby(by=\"green_floor_area\").size()"
   ]
  },
  {
   "cell_type": "code",
   "execution_count": null,
   "metadata": {},
   "outputs": [],
   "source": [
    "X['PRICE'] = X['PRICE'].apply(lambda x: math.log(x,10) if x > 0 else x)"
   ]
  },
  {
   "cell_type": "code",
   "execution_count": null,
   "metadata": {},
   "outputs": [],
   "source": [
    "X.groupby(by=\"PRICE\").size()"
   ]
  },
  {
   "cell_type": "code",
   "execution_count": null,
   "metadata": {},
   "outputs": [],
   "source": [
    "X['LIVING_GBA'] = X['LIVING_GBA'].apply(lambda x: math.log(x,10) if x > 0 else x)"
   ]
  },
  {
   "cell_type": "code",
   "execution_count": null,
   "metadata": {},
   "outputs": [],
   "source": [
    "X.groupby(by=\"LIVING_GBA\").size()"
   ]
  },
  {
   "cell_type": "code",
   "execution_count": null,
   "metadata": {},
   "outputs": [],
   "source": [
    "X['LANDAREA'] = X['LANDAREA'].apply(lambda x: math.log(x,10) if x > 0 else x)"
   ]
  },
  {
   "cell_type": "code",
   "execution_count": null,
   "metadata": {},
   "outputs": [],
   "source": [
    "X.groupby(by=\"LANDAREA\").size()"
   ]
  },
  {
   "cell_type": "code",
   "execution_count": null,
   "metadata": {},
   "outputs": [],
   "source": [
    "X.columns"
   ]
  },
  {
   "cell_type": "markdown",
   "metadata": {},
   "source": [
    "## Build New Dataset: D"
   ]
  },
  {
   "cell_type": "markdown",
   "metadata": {},
   "source": [
    "### Build Feature Matrix"
   ]
  },
  {
   "cell_type": "code",
   "execution_count": null,
   "metadata": {},
   "outputs": [],
   "source": [
    "X.sort_values(\"pdox_b1_id\", ascending = True)\n",
    "D = X.groupby('pdox_b1_id')['alias', 'Project_Status', 'job_class', 'Ward', 'green_floor_area', 'use_type',\n",
    "                            'permit_type', 'PRICE', 'QUALIFIED', 'LIVING_GBA', 'USECODE',\n",
    "                            'LANDAREA', 'EYFC', 'use_change', 'num_units_change', 'gfa_change'].head(1)\n",
    "D = D.reset_index()\n",
    "D"
   ]
  },
  {
   "cell_type": "code",
   "execution_count": null,
   "metadata": {},
   "outputs": [],
   "source": [
    "MAX_Review_Cycle = X.groupby('pdox_b1_id')['ReviewCycle'].max()\n",
    "MAX_Review_Cycle = MAX_Review_Cycle.reset_index()\n",
    "MAX_Review_Cycle = MAX_Review_Cycle.drop(['pdox_b1_id'], axis=1)"
   ]
  },
  {
   "cell_type": "code",
   "execution_count": null,
   "metadata": {},
   "outputs": [],
   "source": [
    "D = pd.concat([D, MAX_Review_Cycle], axis=1)\n",
    "D"
   ]
  },
  {
   "cell_type": "markdown",
   "metadata": {},
   "source": [
    "Change *agencies* into continous variables"
   ]
  },
  {
   "cell_type": "code",
   "execution_count": null,
   "metadata": {},
   "outputs": [],
   "source": [
    "X['CFA_Review'] = X['elapsed_workdays']*agencies['CFA Review']\n",
    "X['Chinatown_Review'] = X['elapsed_workdays']*agencies['Chinatown Review']\n",
    "X['DC_Water_Review'] = X['elapsed_workdays']*agencies['DC Water Review']\n",
    "X['DDOE_Review'] = X['elapsed_workdays']*agencies['DDOE Review']\n",
    "X['DDOT_Review'] = X['elapsed_workdays']*agencies['DDOT Review']\n",
    "X['DOEE_Review'] = X['elapsed_workdays']*agencies['DOEE Review']\n",
    "X['DOH_Review'] = X['elapsed_workdays']*agencies['DOH Review']\n",
    "X['EISF_Review'] = X['elapsed_workdays']*agencies['EISF Review']\n",
    "X['Electrical_Review'] = X['elapsed_workdays']*agencies['Electrical Review']\n",
    "X['Elevator_Review'] = X['elapsed_workdays']*agencies['Elevator Review']\n",
    "X['Energy_Review'] = X['elapsed_workdays']*agencies['Energy Review']\n",
    "X['File_Room'] = X['elapsed_workdays']*agencies['File Room']\n",
    "X['Fire_Review'] = X['elapsed_workdays']*agencies['Fire Review']"
   ]
  },
  {
   "cell_type": "code",
   "execution_count": null,
   "metadata": {},
   "outputs": [],
   "source": [
    "X['Green_Review'] = X['elapsed_workdays']*agencies['Green Review']\n",
    "X['HPRB_Review'] = X['elapsed_workdays']*agencies['HPRB Review']\n",
    "X['Mechanical_Review'] = X['elapsed_workdays']*agencies['Mechanical Review']\n",
    "X['NCPC_Review'] = X['elapsed_workdays']*agencies['NCPC Review']\n",
    "X['PRC'] = X['elapsed_workdays']*agencies['PRC']\n",
    "X['Plumbing_Review'] = X['elapsed_workdays']*agencies['Plumbing Review']\n",
    "X['QA_Review'] = X['elapsed_workdays']*agencies['QA Review']\n",
    "X['Structural_Review'] = X['elapsed_workdays']*agencies['Structural Review']\n",
    "X['WASA_Review'] = X['elapsed_workdays']*agencies['WASA Review']\n",
    "X['WMATA_Review'] = X['elapsed_workdays']*agencies['WMATA Review']\n",
    "X['White_House_Review'] = X['elapsed_workdays']*agencies['White House Review']\n",
    "X['Zoning_Review'] = X['elapsed_workdays']*agencies['Zoning Review']"
   ]
  },
  {
   "cell_type": "code",
   "execution_count": null,
   "metadata": {},
   "outputs": [],
   "source": [
    "AGENCY = X.groupby('pdox_b1_id')['CFA_Review', 'Chinatown_Review', 'DC_Water_Review', 'DDOE_Review', \n",
    "                                'DDOT_Review', 'DOEE_Review', 'DOH_Review', 'EISF_Review',\n",
    "                                'Electrical_Review', 'Elevator_Review', 'Energy_Review', 'File_Room',\n",
    "                                'Fire_Review', 'Green_Review', 'HPRB_Review', 'Mechanical_Review',\n",
    "                                'NCPC_Review', 'PRC', 'Plumbing_Review', 'QA_Review',\n",
    "                                'Structural_Review', 'WASA_Review', 'WMATA_Review', 'White_House_Review',\n",
    "                                'Zoning_Review'].aggregate(np.sum)\n",
    "AGENCY = AGENCY.reset_index()\n",
    "AGENCY = AGENCY.drop(['pdox_b1_id'], axis=1)"
   ]
  },
  {
   "cell_type": "code",
   "execution_count": null,
   "metadata": {
    "scrolled": true
   },
   "outputs": [],
   "source": [
    "D = pd.concat([D, AGENCY], axis=1)\n",
    "D"
   ]
  },
  {
   "cell_type": "markdown",
   "metadata": {},
   "source": [
    "### Build Target Matrix"
   ]
  },
  {
   "cell_type": "code",
   "execution_count": null,
   "metadata": {},
   "outputs": [],
   "source": [
    "T = X.groupby(\"pdox_b1_id\")[\"elapsed_workdays\"].aggregate(np.sum)\n",
    "T = T.reset_index()"
   ]
  },
  {
   "cell_type": "code",
   "execution_count": null,
   "metadata": {},
   "outputs": [],
   "source": [
    "D = pd.concat([T, D], axis=1)\n",
    "D"
   ]
  },
  {
   "cell_type": "markdown",
   "metadata": {},
   "source": [
    "### Drop NA"
   ]
  },
  {
   "cell_type": "code",
   "execution_count": null,
   "metadata": {},
   "outputs": [],
   "source": [
    "D.shape"
   ]
  },
  {
   "cell_type": "code",
   "execution_count": null,
   "metadata": {
    "scrolled": true
   },
   "outputs": [],
   "source": [
    "D.isnull().sum()"
   ]
  },
  {
   "cell_type": "code",
   "execution_count": null,
   "metadata": {},
   "outputs": [],
   "source": [
    "D = D.dropna()\n",
    "D.shape"
   ]
  },
  {
   "cell_type": "markdown",
   "metadata": {},
   "source": [
    "#### Create Dummy Target"
   ]
  },
  {
   "cell_type": "code",
   "execution_count": null,
   "metadata": {},
   "outputs": [],
   "source": [
    "D['elapsed_workdays'].mean()"
   ]
  },
  {
   "cell_type": "code",
   "execution_count": null,
   "metadata": {},
   "outputs": [],
   "source": [
    "np.percentile(D.elapsed_workdays, [50, 63.8])"
   ]
  },
  {
   "cell_type": "markdown",
   "metadata": {},
   "source": [
    "Create dummy target based on the mean and the median"
   ]
  },
  {
   "cell_type": "code",
   "execution_count": null,
   "metadata": {},
   "outputs": [],
   "source": [
    "D['over_90'] = D['elapsed_workdays'].apply(lambda x: 1 if x > 90 else 0)\n",
    "D.groupby(by='over_90').size()"
   ]
  },
  {
   "cell_type": "code",
   "execution_count": null,
   "metadata": {},
   "outputs": [],
   "source": [
    "D['over_150'] = D['elapsed_workdays'].apply(lambda x: 1 if x > 150 else 0)\n",
    "D.groupby(by='over_150').size()"
   ]
  },
  {
   "cell_type": "code",
   "execution_count": null,
   "metadata": {},
   "outputs": [],
   "source": [
    "D.columns"
   ]
  },
  {
   "cell_type": "code",
   "execution_count": null,
   "metadata": {},
   "outputs": [],
   "source": [
    "D = D.drop(['index'], axis = 1)"
   ]
  },
  {
   "cell_type": "code",
   "execution_count": null,
   "metadata": {},
   "outputs": [],
   "source": [
    "# Save\n",
    "D.to_csv(\"../../data/final_permit_uncode.csv\", index=False)"
   ]
  },
  {
   "cell_type": "markdown",
   "metadata": {},
   "source": [
    "#### Encode categorical variables"
   ]
  },
  {
   "cell_type": "code",
   "execution_count": null,
   "metadata": {},
   "outputs": [],
   "source": [
    "D"
   ]
  },
  {
   "cell_type": "code",
   "execution_count": null,
   "metadata": {},
   "outputs": [],
   "source": [
    "from sklearn.preprocessing import LabelEncoder\n",
    "lb = LabelEncoder()\n",
    "CV = ['alias', 'Project_Status', 'job_class', 'use_type', 'permit_type', 'QUALIFIED',\n",
    "      'use_change', 'num_units_change', 'gfa_change']\n",
    "for v in CV:\n",
    "    D[v] = lb.fit_transform(D[v])"
   ]
  },
  {
   "cell_type": "code",
   "execution_count": null,
   "metadata": {},
   "outputs": [],
   "source": [
    "# Save\n",
    "D.to_csv(\"../data/final_permit_encode.csv\", index=False)"
   ]
  },
  {
   "cell_type": "code",
   "execution_count": null,
   "metadata": {},
   "outputs": [],
   "source": []
  }
 ],
 "metadata": {
  "kernelspec": {
   "display_name": "Python 3",
   "language": "python",
   "name": "python3"
  },
  "language_info": {
   "codemirror_mode": {
    "name": "ipython",
    "version": 3
   },
   "file_extension": ".py",
   "mimetype": "text/x-python",
   "name": "python",
   "nbconvert_exporter": "python",
   "pygments_lexer": "ipython3",
   "version": "3.7.2"
  }
 },
 "nbformat": 4,
 "nbformat_minor": 2
}
