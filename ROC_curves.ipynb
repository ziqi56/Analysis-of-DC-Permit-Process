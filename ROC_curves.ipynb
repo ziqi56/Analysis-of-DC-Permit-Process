{
 "cells": [
  {
   "cell_type": "markdown",
   "metadata": {},
   "source": [
    "# ROC (Pdox_ID)"
   ]
  },
  {
   "cell_type": "code",
   "execution_count": 1,
   "metadata": {},
   "outputs": [],
   "source": [
    "# load packages\n",
    "import numpy as np\n",
    "import pandas as pd\n",
    "import matplotlib.pyplot as plt\n",
    "%matplotlib inline \n",
    "from sklearn.model_selection import cross_val_score, validation_curve, learning_curve, train_test_split\n",
    "from sklearn.metrics import roc_curve, auc\n",
    "from sklearn.neighbors import KNeighborsClassifier\n",
    "from sklearn.naive_bayes import GaussianNB\n",
    "from sklearn.tree import DecisionTreeClassifier\n",
    "from sklearn import tree\n",
    "from sklearn.linear_model import LogisticRegression"
   ]
  },
  {
   "cell_type": "code",
   "execution_count": 2,
   "metadata": {
    "scrolled": true
   },
   "outputs": [
    {
     "data": {
      "text/html": [
       "<div>\n",
       "<style scoped>\n",
       "    .dataframe tbody tr th:only-of-type {\n",
       "        vertical-align: middle;\n",
       "    }\n",
       "\n",
       "    .dataframe tbody tr th {\n",
       "        vertical-align: top;\n",
       "    }\n",
       "\n",
       "    .dataframe thead th {\n",
       "        text-align: right;\n",
       "    }\n",
       "</style>\n",
       "<table border=\"1\" class=\"dataframe\">\n",
       "  <thead>\n",
       "    <tr style=\"text-align: right;\">\n",
       "      <th></th>\n",
       "      <th>pdox_b1_id</th>\n",
       "      <th>elapsed_workdays</th>\n",
       "      <th>alias</th>\n",
       "      <th>Project_Status</th>\n",
       "      <th>job_class</th>\n",
       "      <th>Ward</th>\n",
       "      <th>green_floor_area</th>\n",
       "      <th>use_type</th>\n",
       "      <th>permit_type</th>\n",
       "      <th>PRICE</th>\n",
       "      <th>...</th>\n",
       "      <th>PRC</th>\n",
       "      <th>Plumbing_Review</th>\n",
       "      <th>QA_Review</th>\n",
       "      <th>Structural_Review</th>\n",
       "      <th>WASA_Review</th>\n",
       "      <th>WMATA_Review</th>\n",
       "      <th>White_House_Review</th>\n",
       "      <th>Zoning_Review</th>\n",
       "      <th>over_90</th>\n",
       "      <th>over_150</th>\n",
       "    </tr>\n",
       "  </thead>\n",
       "  <tbody>\n",
       "    <tr>\n",
       "      <th>0</th>\n",
       "      <td>AN1700124</td>\n",
       "      <td>62.0</td>\n",
       "      <td>0</td>\n",
       "      <td>0</td>\n",
       "      <td>2</td>\n",
       "      <td>6.0</td>\n",
       "      <td>0.000000</td>\n",
       "      <td>1</td>\n",
       "      <td>0</td>\n",
       "      <td>6.209515</td>\n",
       "      <td>...</td>\n",
       "      <td>0.0</td>\n",
       "      <td>0.0</td>\n",
       "      <td>0.0</td>\n",
       "      <td>22.0</td>\n",
       "      <td>0.0</td>\n",
       "      <td>0.0</td>\n",
       "      <td>0.0</td>\n",
       "      <td>23.0</td>\n",
       "      <td>0</td>\n",
       "      <td>0</td>\n",
       "    </tr>\n",
       "    <tr>\n",
       "      <th>1</th>\n",
       "      <td>AN1700215</td>\n",
       "      <td>100.0</td>\n",
       "      <td>1</td>\n",
       "      <td>6</td>\n",
       "      <td>6</td>\n",
       "      <td>5.0</td>\n",
       "      <td>3.260071</td>\n",
       "      <td>1</td>\n",
       "      <td>0</td>\n",
       "      <td>5.525045</td>\n",
       "      <td>...</td>\n",
       "      <td>9.0</td>\n",
       "      <td>0.0</td>\n",
       "      <td>7.0</td>\n",
       "      <td>26.0</td>\n",
       "      <td>0.0</td>\n",
       "      <td>0.0</td>\n",
       "      <td>0.0</td>\n",
       "      <td>14.0</td>\n",
       "      <td>1</td>\n",
       "      <td>0</td>\n",
       "    </tr>\n",
       "    <tr>\n",
       "      <th>2</th>\n",
       "      <td>AN1700235</td>\n",
       "      <td>65.0</td>\n",
       "      <td>0</td>\n",
       "      <td>0</td>\n",
       "      <td>3</td>\n",
       "      <td>5.0</td>\n",
       "      <td>3.147367</td>\n",
       "      <td>0</td>\n",
       "      <td>0</td>\n",
       "      <td>5.755875</td>\n",
       "      <td>...</td>\n",
       "      <td>5.0</td>\n",
       "      <td>0.0</td>\n",
       "      <td>8.0</td>\n",
       "      <td>18.0</td>\n",
       "      <td>0.0</td>\n",
       "      <td>0.0</td>\n",
       "      <td>0.0</td>\n",
       "      <td>3.0</td>\n",
       "      <td>0</td>\n",
       "      <td>0</td>\n",
       "    </tr>\n",
       "    <tr>\n",
       "      <th>3</th>\n",
       "      <td>AN1700242</td>\n",
       "      <td>91.0</td>\n",
       "      <td>0</td>\n",
       "      <td>0</td>\n",
       "      <td>7</td>\n",
       "      <td>1.0</td>\n",
       "      <td>4.238508</td>\n",
       "      <td>0</td>\n",
       "      <td>0</td>\n",
       "      <td>5.705008</td>\n",
       "      <td>...</td>\n",
       "      <td>5.0</td>\n",
       "      <td>0.0</td>\n",
       "      <td>11.0</td>\n",
       "      <td>32.0</td>\n",
       "      <td>0.0</td>\n",
       "      <td>0.0</td>\n",
       "      <td>0.0</td>\n",
       "      <td>26.0</td>\n",
       "      <td>1</td>\n",
       "      <td>0</td>\n",
       "    </tr>\n",
       "    <tr>\n",
       "      <th>4</th>\n",
       "      <td>AN1700244</td>\n",
       "      <td>57.0</td>\n",
       "      <td>1</td>\n",
       "      <td>0</td>\n",
       "      <td>6</td>\n",
       "      <td>2.0</td>\n",
       "      <td>2.389928</td>\n",
       "      <td>1</td>\n",
       "      <td>0</td>\n",
       "      <td>6.172507</td>\n",
       "      <td>...</td>\n",
       "      <td>1.0</td>\n",
       "      <td>0.0</td>\n",
       "      <td>6.0</td>\n",
       "      <td>18.0</td>\n",
       "      <td>0.0</td>\n",
       "      <td>0.0</td>\n",
       "      <td>0.0</td>\n",
       "      <td>21.0</td>\n",
       "      <td>0</td>\n",
       "      <td>0</td>\n",
       "    </tr>\n",
       "  </tbody>\n",
       "</table>\n",
       "<p>5 rows × 46 columns</p>\n",
       "</div>"
      ],
      "text/plain": [
       "  pdox_b1_id  elapsed_workdays  alias  Project_Status  job_class  Ward  \\\n",
       "0  AN1700124              62.0      0               0          2   6.0   \n",
       "1  AN1700215             100.0      1               6          6   5.0   \n",
       "2  AN1700235              65.0      0               0          3   5.0   \n",
       "3  AN1700242              91.0      0               0          7   1.0   \n",
       "4  AN1700244              57.0      1               0          6   2.0   \n",
       "\n",
       "   green_floor_area  use_type  permit_type     PRICE    ...     PRC  \\\n",
       "0          0.000000         1            0  6.209515    ...     0.0   \n",
       "1          3.260071         1            0  5.525045    ...     9.0   \n",
       "2          3.147367         0            0  5.755875    ...     5.0   \n",
       "3          4.238508         0            0  5.705008    ...     5.0   \n",
       "4          2.389928         1            0  6.172507    ...     1.0   \n",
       "\n",
       "   Plumbing_Review  QA_Review  Structural_Review  WASA_Review  WMATA_Review  \\\n",
       "0              0.0        0.0               22.0          0.0           0.0   \n",
       "1              0.0        7.0               26.0          0.0           0.0   \n",
       "2              0.0        8.0               18.0          0.0           0.0   \n",
       "3              0.0       11.0               32.0          0.0           0.0   \n",
       "4              0.0        6.0               18.0          0.0           0.0   \n",
       "\n",
       "   White_House_Review  Zoning_Review  over_90  over_150  \n",
       "0                 0.0           23.0        0         0  \n",
       "1                 0.0           14.0        1         0  \n",
       "2                 0.0            3.0        0         0  \n",
       "3                 0.0           26.0        1         0  \n",
       "4                 0.0           21.0        0         0  \n",
       "\n",
       "[5 rows x 46 columns]"
      ]
     },
     "execution_count": 2,
     "metadata": {},
     "output_type": "execute_result"
    }
   ],
   "source": [
    "# import data\n",
    "dat = pd.read_csv('../data/final_permit_encode.csv')\n",
    "dat.head()"
   ]
  },
  {
   "cell_type": "code",
   "execution_count": 3,
   "metadata": {},
   "outputs": [
    {
     "data": {
      "text/plain": [
       "Index(['alias', 'Project_Status', 'job_class', 'Ward', 'green_floor_area',\n",
       "       'use_type', 'permit_type', 'PRICE', 'QUALIFIED', 'LIVING_GBA',\n",
       "       'USECODE', 'LANDAREA', 'EYFC', 'use_change', 'num_units_change',\n",
       "       'gfa_change', 'ReviewCycle', 'CFA_Review', 'Chinatown_Review',\n",
       "       'DC_Water_Review', 'DDOE_Review', 'DDOT_Review', 'DOEE_Review',\n",
       "       'DOH_Review', 'EISF_Review', 'Electrical_Review', 'Elevator_Review',\n",
       "       'Energy_Review', 'File_Room', 'Fire_Review', 'Green_Review',\n",
       "       'HPRB_Review', 'Mechanical_Review', 'NCPC_Review', 'PRC',\n",
       "       'Plumbing_Review', 'QA_Review', 'Structural_Review', 'WASA_Review',\n",
       "       'WMATA_Review', 'White_House_Review', 'Zoning_Review'],\n",
       "      dtype='object')"
      ]
     },
     "execution_count": 3,
     "metadata": {},
     "output_type": "execute_result"
    }
   ],
   "source": [
    "# create X and y\n",
    "X = dat.drop([\"elapsed_workdays\",\"pdox_b1_id\",\"over_90\",\"over_150\"], axis = 1)\n",
    "y = dat[\"over_150\"] # over150\n",
    "X.columns"
   ]
  },
  {
   "cell_type": "markdown",
   "metadata": {},
   "source": [
    "## Naive Bayes"
   ]
  },
  {
   "cell_type": "code",
   "execution_count": 4,
   "metadata": {},
   "outputs": [
    {
     "data": {
      "text/plain": [
       "GaussianNB(priors=None, var_smoothing=1e-09)"
      ]
     },
     "execution_count": 4,
     "metadata": {},
     "output_type": "execute_result"
    }
   ],
   "source": [
    "# Fitting a Naive Bayes model\n",
    "bayes= GaussianNB()\n",
    "bayes.fit(X,y)"
   ]
  },
  {
   "cell_type": "code",
   "execution_count": 5,
   "metadata": {},
   "outputs": [
    {
     "data": {
      "text/plain": [
       "0.899"
      ]
     },
     "execution_count": 5,
     "metadata": {},
     "output_type": "execute_result"
    }
   ],
   "source": [
    "# Performing  10-fold cross-validation\n",
    "round(np.mean(cross_val_score(bayes, X, y, cv=10)),3)"
   ]
  },
  {
   "cell_type": "code",
   "execution_count": 6,
   "metadata": {},
   "outputs": [
    {
     "name": "stdout",
     "output_type": "stream",
     "text": [
      "Sizes:  [ 100  200  300  400  500  600  700  800  900 1000 1100 1200 1300 1400\n",
      " 1500 1600 1700]\n"
     ]
    }
   ],
   "source": [
    "# Determining the size of the trainning set\n",
    "sizes = np.arange(100, 1800,100)\n",
    "print('Sizes: ', sizes)\n",
    "\n",
    "# comparing accuracy scores\n",
    "train_sizes, train_scores, test_scores = learning_curve(bayes, X, y, cv=10, train_sizes=sizes)\n",
    "train_mean = np.mean(train_scores, axis=1)\n",
    "test_mean = np.mean(test_scores, axis=1)"
   ]
  },
  {
   "cell_type": "code",
   "execution_count": 7,
   "metadata": {},
   "outputs": [
    {
     "data": {
      "text/plain": [
       "array([0.66273427, 0.7038913 , 0.89635764, 0.88765455, 0.88966711,\n",
       "       0.88107853, 0.8810811 , 0.88056587, 0.87500254, 0.87298739,\n",
       "       0.86141689, 0.85281819, 0.86287351, 0.8719493 , 0.88153013,\n",
       "       0.88859333, 0.89666158])"
      ]
     },
     "execution_count": 7,
     "metadata": {},
     "output_type": "execute_result"
    }
   ],
   "source": [
    "test_mean"
   ]
  },
  {
   "cell_type": "code",
   "execution_count": 8,
   "metadata": {},
   "outputs": [],
   "source": [
    "# split training and test \n",
    "training_size = 1700 # highest score above\n",
    "Xtrain, Xtest, ytrain, ytest = train_test_split(X, y, train_size=training_size, test_size=X.shape[0]-training_size)\n",
    "\n",
    "# fitting the model on training set\n",
    "bayes.fit(Xtrain, ytrain)\n",
    "y_pred1 = bayes.predict(Xtest)"
   ]
  },
  {
   "cell_type": "code",
   "execution_count": 9,
   "metadata": {},
   "outputs": [
    {
     "name": "stdout",
     "output_type": "stream",
     "text": [
      "AUC SVC:  0.863\n"
     ]
    }
   ],
   "source": [
    "# true positives and false positives\n",
    "false_positive_rate1, true_positive_rate1, thresholds1 = roc_curve(ytest, y_pred1, pos_label=1)\n",
    "rates1 = pd.DataFrame(dict(fpr1=false_positive_rate1, tpr1=true_positive_rate1))\n",
    "roc_auc1 = auc(rates1['fpr1'], rates1['tpr1'])\n",
    "print('AUC SVC: ', round(roc_auc1,3))"
   ]
  },
  {
   "cell_type": "markdown",
   "metadata": {},
   "source": [
    "## Decision Tree"
   ]
  },
  {
   "cell_type": "code",
   "execution_count": 10,
   "metadata": {},
   "outputs": [],
   "source": [
    "# Fit decision tree model\n",
    "dt = tree.DecisionTreeClassifier()"
   ]
  },
  {
   "cell_type": "code",
   "execution_count": 11,
   "metadata": {},
   "outputs": [
    {
     "data": {
      "text/plain": [
       "DecisionTreeClassifier(class_weight=None, criterion='gini', max_depth=None,\n",
       "            max_features=None, max_leaf_nodes=None,\n",
       "            min_impurity_decrease=0.0, min_impurity_split=None,\n",
       "            min_samples_leaf=1, min_samples_split=2,\n",
       "            min_weight_fraction_leaf=0.0, presort=False, random_state=None,\n",
       "            splitter='best')"
      ]
     },
     "execution_count": 11,
     "metadata": {},
     "output_type": "execute_result"
    }
   ],
   "source": [
    "dt.fit(X,y)"
   ]
  },
  {
   "cell_type": "code",
   "execution_count": 12,
   "metadata": {},
   "outputs": [
    {
     "data": {
      "text/plain": [
       "0.887"
      ]
     },
     "execution_count": 12,
     "metadata": {},
     "output_type": "execute_result"
    }
   ],
   "source": [
    "# 10-fold cross validation\n",
    "round(np.mean(cross_val_score(dt, X, y, cv=10)),3)"
   ]
  },
  {
   "cell_type": "code",
   "execution_count": 13,
   "metadata": {},
   "outputs": [],
   "source": [
    "# fit the model on the training set\n",
    "dt.fit(Xtrain, ytrain)\n",
    "y_pred2 = dt.predict(Xtest)"
   ]
  },
  {
   "cell_type": "code",
   "execution_count": 14,
   "metadata": {},
   "outputs": [
    {
     "name": "stdout",
     "output_type": "stream",
     "text": [
      "AUC SVC:  0.865\n"
     ]
    }
   ],
   "source": [
    "# true positives and false positives\n",
    "false_positive_rate2, true_positive_rate2, thresholds2 = roc_curve(ytest, y_pred2, pos_label=1)\n",
    "rates2 = pd.DataFrame(dict(fpr2=false_positive_rate2, tpr2=true_positive_rate2))\n",
    "roc_auc2 = auc(rates2['fpr2'], rates2['tpr2'])\n",
    "print('AUC SVC: ', round(roc_auc2,3))"
   ]
  },
  {
   "cell_type": "markdown",
   "metadata": {},
   "source": [
    "## logit"
   ]
  },
  {
   "cell_type": "code",
   "execution_count": 15,
   "metadata": {},
   "outputs": [
    {
     "data": {
      "text/plain": [
       "LogisticRegression(C=1.0, class_weight=None, dual=False, fit_intercept=True,\n",
       "          intercept_scaling=1, max_iter=100, multi_class='warn',\n",
       "          n_jobs=None, penalty='l2', random_state=None, solver='liblinear',\n",
       "          tol=0.0001, verbose=0, warm_start=False)"
      ]
     },
     "execution_count": 15,
     "metadata": {},
     "output_type": "execute_result"
    }
   ],
   "source": [
    "#fit logit model\n",
    "logreg = LogisticRegression(solver='liblinear')\n",
    "logreg.fit(X,y)"
   ]
  },
  {
   "cell_type": "code",
   "execution_count": 16,
   "metadata": {},
   "outputs": [
    {
     "data": {
      "text/plain": [
       "0.979"
      ]
     },
     "execution_count": 16,
     "metadata": {},
     "output_type": "execute_result"
    }
   ],
   "source": [
    "# Performing 10-fold cross-validation\n",
    "round(np.mean(cross_val_score(logreg, X, y, cv=10)),3)"
   ]
  },
  {
   "cell_type": "code",
   "execution_count": 17,
   "metadata": {},
   "outputs": [],
   "source": [
    "logreg.fit(Xtrain, ytrain)\n",
    "y_pred3 = logreg.predict(Xtest)"
   ]
  },
  {
   "cell_type": "code",
   "execution_count": 18,
   "metadata": {},
   "outputs": [
    {
     "name": "stdout",
     "output_type": "stream",
     "text": [
      "AUC SVC:  0.984\n"
     ]
    }
   ],
   "source": [
    "# true positives and false positives\n",
    "false_positive_rate3, true_positive_rate3, thresholds3 = roc_curve(ytest, y_pred3, pos_label=1)\n",
    "rates3 = pd.DataFrame(dict(fpr3=false_positive_rate3, tpr3=true_positive_rate3))\n",
    "roc_auc3 = auc(rates3['fpr3'], rates3['tpr3'])\n",
    "print('AUC SVC: ', round(roc_auc3,3))"
   ]
  },
  {
   "cell_type": "markdown",
   "metadata": {},
   "source": [
    "## KNN"
   ]
  },
  {
   "cell_type": "code",
   "execution_count": 19,
   "metadata": {},
   "outputs": [],
   "source": [
    "# KNN\n",
    "# Test which k performs the best\n",
    "k_range = range(1,20)\n",
    "k_scores = []\n",
    "for k in k_range:\n",
    "    knn = KNeighborsClassifier(n_neighbors = k)\n",
    "    scores = cross_val_score(knn, X, y, cv=10, scoring = 'accuracy')\n",
    "    k_scores.append(scores.mean())"
   ]
  },
  {
   "cell_type": "code",
   "execution_count": 20,
   "metadata": {},
   "outputs": [
    {
     "data": {
      "text/plain": [
       "[0.921899079049042,\n",
       " 0.9042041335220429,\n",
       " 0.9264140525217484,\n",
       " 0.9223557798220451,\n",
       " 0.930936717118897,\n",
       " 0.9248759822287358,\n",
       " 0.9319315131778463,\n",
       " 0.9248504482109056,\n",
       " 0.9329263350027066,\n",
       " 0.925870778287685,\n",
       " 0.9268834430059334,\n",
       " 0.9248606515116732,\n",
       " 0.9304163358967837,\n",
       " 0.9243632663651539,\n",
       " 0.9288986206734847,\n",
       " 0.9268783671214607,\n",
       " 0.9309086709247409,\n",
       " 0.9223251699197419,\n",
       " 0.9298857771398137]"
      ]
     },
     "execution_count": 20,
     "metadata": {},
     "output_type": "execute_result"
    }
   ],
   "source": [
    "k_scores"
   ]
  },
  {
   "cell_type": "code",
   "execution_count": 21,
   "metadata": {},
   "outputs": [],
   "source": [
    "# choose neighbors = 9 according to scores above\n",
    "knn = KNeighborsClassifier(n_neighbors = 9)\n",
    "knn.fit(Xtrain, ytrain)\n",
    "y_pred4 = knn.predict(Xtest)"
   ]
  },
  {
   "cell_type": "code",
   "execution_count": 22,
   "metadata": {},
   "outputs": [
    {
     "name": "stdout",
     "output_type": "stream",
     "text": [
      "AUC SVC:  0.941\n"
     ]
    }
   ],
   "source": [
    "# true positives and false positives\n",
    "false_positive_rate4, true_positive_rate4, thresholds4 = roc_curve(ytest, y_pred4, pos_label=1)\n",
    "rates4 = pd.DataFrame(dict(fpr4=false_positive_rate4, tpr4=true_positive_rate4))\n",
    "roc_auc4 = auc(rates4['fpr4'], rates4['tpr4'])\n",
    "print('AUC SVC: ', round(roc_auc4,3))"
   ]
  },
  {
   "cell_type": "code",
   "execution_count": 23,
   "metadata": {
    "scrolled": true
   },
   "outputs": [
    {
     "data": {
      "image/png": "[encoded data removed]",
      "text/plain": [
       "<Figure size 432x288 with 1 Axes>"
      ]
     },
     "metadata": {
      "needs_background": "light"
     },
     "output_type": "display_data"
    }
   ],
   "source": [
    "#ROC curve over150\n",
    "plt.plot(rates1.fpr1, rates1.tpr1, 'b',color='red', label = 'Naive Bayes = %0.2f' % roc_auc1)\n",
    "plt.plot(rates4.fpr4, rates4.tpr4, 'b',color='grey', label = 'KNN = %0.2f' % roc_auc4)\n",
    "plt.plot(rates2.fpr2, rates2.tpr2, 'b',color='cyan', label = 'Decision Tree = %0.2f' % roc_auc2)\n",
    "plt.plot(rates3.fpr3, rates3.tpr3, 'b',color='blue',label = 'Logit = %0.2f' % roc_auc3)\n",
    "plt.plot([0, 1], [0, 1],'r--')\n",
    "plt.xlim([0, 1])\n",
    "plt.ylim([0, 1])\n",
    "plt.ylabel('True Positive Rate')\n",
    "plt.xlabel('False Positive Rate')\n",
    "plt.title('Pdox Model: Receiver Operating Characteristic')\n",
    "plt.legend(loc = 'lower right')\n",
    "plt.savefig('ROC.png')\n",
    "plt.show()"
   ]
  },
  {
   "cell_type": "code",
   "execution_count": null,
   "metadata": {},
   "outputs": [],
   "source": []
  }
 ],
 "metadata": {
  "kernelspec": {
   "display_name": "Python 3",
   "language": "python",
   "name": "python3"
  },
  "language_info": {
   "codemirror_mode": {
    "name": "ipython",
    "version": 3
   },
   "file_extension": ".py",
   "mimetype": "text/x-python",
   "name": "python",
   "nbconvert_exporter": "python",
   "pygments_lexer": "ipython3",
   "version": "3.7.2"
  }
 },
 "nbformat": 4,
 "nbformat_minor": 2
}
